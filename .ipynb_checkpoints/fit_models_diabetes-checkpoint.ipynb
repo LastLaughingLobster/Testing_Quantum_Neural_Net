{
 "cells": [
  {
   "cell_type": "code",
   "execution_count": 1,
   "id": "23e99752",
   "metadata": {},
   "outputs": [
    {
     "name": "stderr",
     "output_type": "stream",
     "text": [
      "configrc.store_credentials:WARNING:2022-06-05 01:10:51,279: Credentials already present. Set overwrite=True to overwrite.\n"
     ]
    },
    {
     "name": "stdout",
     "output_type": "stream",
     "text": [
      "GPU Acceleration Disabled:  'Invalid option devices'\n",
      "QPU Simulator Enabled\n",
      "Simulating ibmq_manila\n"
     ]
    }
   ],
   "source": [
    "from classes.QCircuits import *\n",
    "from classes.QnnTorchConnector import *\n",
    "from classes.CsvDataset import *\n",
    "from classes.Utils import *\n",
    "\n",
    "from qiskit import QuantumCircuit\n",
    "from qiskit.circuit.library import RealAmplitudes, ZFeatureMap, ZZFeatureMap\n",
    "from qiskit.circuit import ParameterVector\n",
    "from qiskit.quantum_info import Statevector\n",
    "from qiskit.algorithms.optimizers import SPSA, SLSQP, L_BFGS_B, COBYLA\n",
    "\n",
    "import numpy as np\n",
    "from math import log\n",
    "from pandas import read_csv, DataFrame, concat\n",
    "\n",
    "import matplotlib.pyplot as plt\n",
    "\n",
    "import torch as T\n",
    "\n",
    "from sklearn import datasets, preprocessing\n",
    "from sklearn.model_selection import train_test_split"
   ]
  },
  {
   "cell_type": "code",
   "execution_count": 2,
   "id": "6a1a7e3a",
   "metadata": {},
   "outputs": [
    {
     "name": "stdout",
     "output_type": "stream",
     "text": [
      "                0           1           2           3           4           5  \\\n",
      "count  768.000000  768.000000  768.000000  768.000000  768.000000  768.000000   \n",
      "mean     3.845052  120.894531   69.105469   20.536458   79.799479   31.992578   \n",
      "std      3.369578   31.972618   19.355807   15.952218  115.244002    7.884160   \n",
      "min      0.000000    0.000000    0.000000    0.000000    0.000000    0.000000   \n",
      "25%      1.000000   99.000000   62.000000    0.000000    0.000000   27.300000   \n",
      "50%      3.000000  117.000000   72.000000   23.000000   30.500000   32.000000   \n",
      "75%      6.000000  140.250000   80.000000   32.000000  127.250000   36.600000   \n",
      "max     17.000000  199.000000  122.000000   99.000000  846.000000   67.100000   \n",
      "\n",
      "                6           7           8  \n",
      "count  768.000000  768.000000  768.000000  \n",
      "mean     0.471876   33.240885    0.348958  \n",
      "std      0.331329   11.760232    0.476951  \n",
      "min      0.078000   21.000000    0.000000  \n",
      "25%      0.243750   24.000000    0.000000  \n",
      "50%      0.372500   29.000000    0.000000  \n",
      "75%      0.626250   41.000000    1.000000  \n",
      "max      2.420000   81.000000    1.000000  \n"
     ]
    }
   ],
   "source": [
    "seed = 42\n",
    "np.random.seed(seed)\n",
    "T.manual_seed(seed)\n",
    "\n",
    "url = 'https://raw.githubusercontent.com/jbrownlee/Datasets/master/pima-indians-diabetes.csv'\n",
    "n=3\n",
    "epochs = 30\n",
    "\n",
    "dataset_name = 'diabetes'\n",
    "save_path = 'loss_data/'+dataset_name+'_'\n",
    "\n",
    "df = read_csv(url, header=None)\n",
    "print(df.describe())\n",
    " \n",
    "dataset = CsvDataset(df=df, features=(1,5,7), target=8)\n",
    "\n",
    "train_dl, test_dl = create_train_test_dataloader(dataset, batch_size=10)"
   ]
  },
  {
   "cell_type": "code",
   "execution_count": 3,
   "id": "9189671c",
   "metadata": {},
   "outputs": [
    {
     "name": "stdout",
     "output_type": "stream",
     "text": [
      "--------create model-----------\n",
      "param count is : 28\n",
      "Running epoch 1 of 30\n",
      "Running epoch 2 of 30\n",
      "Running epoch 3 of 30\n",
      "Running epoch 4 of 30\n",
      "Running epoch 5 of 30\n",
      "Running epoch 6 of 30\n",
      "Running epoch 7 of 30\n",
      "Running epoch 8 of 30\n",
      "Running epoch 9 of 30\n",
      "Running epoch 10 of 30\n",
      "Running epoch 11 of 30\n",
      "Running epoch 12 of 30\n",
      "Running epoch 13 of 30\n",
      "Running epoch 14 of 30\n",
      "Running epoch 15 of 30\n",
      "Running epoch 16 of 30\n",
      "Running epoch 17 of 30\n",
      "Running epoch 18 of 30\n",
      "Running epoch 19 of 30\n",
      "Running epoch 20 of 30\n",
      "Running epoch 21 of 30\n",
      "Running epoch 22 of 30\n",
      "Running epoch 23 of 30\n",
      "Running epoch 24 of 30\n",
      "Running epoch 25 of 30\n",
      "Running epoch 26 of 30\n",
      "Running epoch 27 of 30\n",
      "Running epoch 28 of 30\n",
      "Running epoch 29 of 30\n",
      "Running epoch 30 of 30\n",
      "end of run - train loss array is: [0.6638663095659036, 0.6516828319227814, 0.650654072783072, 0.6499944645274933, 0.6493722010181796, 0.6487421991540637, 0.6480819865076022, 0.6473714956959282, 0.6465887023298161, 0.6457071987646907, 0.6446936448967318, 0.6435043880128213, 0.6420806240695266, 0.6403412871181133, 0.6381726228344229, 0.6354135311324152, 0.6318377101903874, 0.6271417743475932, 0.6209702893560398, 0.6130325852434076, 0.603314819649119, 0.5922451215235705, 0.58065023314801, 0.5694873564584634, 0.5595034579526798, 0.551051705599409, 0.5441349479668552, 0.5385585859276594, 0.5340666606341157, 0.5304181098206928]\n",
      "end of run - val loss array is: [0.6419493909155024, 0.6392329682717885, 0.6384050424968377, 0.6377320915499999, 0.6370584947641401, 0.6363486406267431, 0.6355802509991954, 0.6347303861094049, 0.6337718738424655, 0.6326707214370564, 0.6313829136647335, 0.629849902049895, 0.6279920258032367, 0.6256988571763231, 0.6228153303546355, 0.6191233358243045, 0.6143230843054286, 0.6080342665452637, 0.5998696609579813, 0.5896387557542977, 0.5776080500346371, 0.5645913842783449, 0.5517233032136839, 0.5400212727041938, 0.5300651444390083, 0.5219802628943488, 0.5156048775638937, 0.5106626027060126, 0.5068677482226406, 0.5039707422046126]\n",
      "end of run - val accuracy is: [0.6623376623376611, 0.6623376623376611, 0.6623376623376611, 0.6623376623376611, 0.6623376623376611, 0.6623376623376611, 0.6623376623376611, 0.6623376623376611, 0.6623376623376611, 0.6623376623376611, 0.6623376623376611, 0.6623376623376611, 0.6623376623376611, 0.6623376623376611, 0.6623376623376611, 0.6623376623376611, 0.6623376623376611, 0.6623376623376611, 0.6623376623376611, 0.6818181818181804, 0.7012987012986998, 0.7207792207792191, 0.7402597402597384, 0.7662337662337642, 0.7662337662337642, 0.7597402597402577, 0.7662337662337642, 0.7662337662337642, 0.7727272727272706, 0.7857142857142835]\n",
      "--------end fitting-----------\n",
      "\n",
      "--------create model (without extra layer) -----------\n",
      "param count is : 16\n",
      "Running epoch 1 of 30\n",
      "Running epoch 2 of 30\n",
      "Running epoch 3 of 30\n",
      "Running epoch 4 of 30\n",
      "Running epoch 5 of 30\n",
      "Running epoch 6 of 30\n",
      "Running epoch 7 of 30\n",
      "Running epoch 8 of 30\n",
      "Running epoch 9 of 30\n",
      "Running epoch 10 of 30\n",
      "Running epoch 11 of 30\n",
      "Running epoch 12 of 30\n",
      "Running epoch 13 of 30\n",
      "Running epoch 14 of 30\n",
      "Running epoch 15 of 30\n",
      "Running epoch 16 of 30\n",
      "Running epoch 17 of 30\n",
      "Running epoch 18 of 30\n",
      "Running epoch 19 of 30\n",
      "Running epoch 20 of 30\n",
      "Running epoch 21 of 30\n",
      "Running epoch 22 of 30\n",
      "Running epoch 23 of 30\n",
      "Running epoch 24 of 30\n",
      "Running epoch 25 of 30\n",
      "Running epoch 26 of 30\n",
      "Running epoch 27 of 30\n",
      "Running epoch 28 of 30\n",
      "Running epoch 29 of 30\n",
      "Running epoch 30 of 30\n",
      "end of run - train loss array is: [0.6674869906760035, 0.6526736808020243, 0.650611614263846, 0.6497315485687308, 0.6489797516191859, 0.6482423288098585, 0.6474946494019459, 0.6467259698743019, 0.6459289069478439, 0.6450970124056538, 0.6442239922524274, 0.6433033875315839, 0.6423284129614282, 0.6412918599598426, 0.6401860325447707, 0.6390027061191061, 0.6377331084978146, 0.6363679280501228, 0.6348973582180404, 0.6333111918138387, 0.6315989824448236, 0.6297502935397841, 0.6277550563246926, 0.6256040543141387, 0.6232895402040279, 0.620805968265233, 0.6181507904278548, 0.6153252217224794, 0.6123348435648893, 0.6091899017889977]\n",
      "end of run - val loss array is: [0.6477919577636473, 0.6419830703417568, 0.6404808776290204, 0.639576878486918, 0.6387857820634064, 0.6380091203149281, 0.6372185553004075, 0.6364022702753587, 0.6355527002330148, 0.6346632795070333, 0.633727485912586, 0.6327385152400494, 0.6316891411325742, 0.6305716368851919, 0.6293777248952273, 0.6280985462986785, 0.6267246531049114, 0.6252460303730063, 0.6236521601733888, 0.6219321431261349, 0.6200748970299815, 0.6180694545213735, 0.6159053809367919, 0.6135733266979876, 0.6110657120918062, 0.6083775135783422, 0.6055070806895756, 0.6024568694092239, 0.5992339488952744, 0.5958501452997802]\n",
      "end of run - val accuracy is: [0.6623376623376611, 0.6623376623376611, 0.6623376623376611, 0.6623376623376611, 0.6623376623376611, 0.6623376623376611, 0.6623376623376611, 0.6623376623376611, 0.6623376623376611, 0.6623376623376611, 0.6623376623376611, 0.6623376623376611, 0.6623376623376611, 0.6623376623376611, 0.6623376623376611, 0.6623376623376611, 0.6623376623376611, 0.6623376623376611, 0.6623376623376611, 0.6623376623376611, 0.6623376623376611, 0.6623376623376611, 0.6623376623376611, 0.6623376623376611, 0.6623376623376611, 0.6623376623376611, 0.6623376623376611, 0.6623376623376611, 0.6623376623376611, 0.6623376623376611]\n",
      "--------end fitting-----------\n",
      "\n"
     ]
    },
    {
     "data": {
      "text/plain": [
       "(ClassicalNet(\n",
       "   (hid1): Linear(in_features=3, out_features=3, bias=True)\n",
       "   (hid2): Linear(in_features=3, out_features=3, bias=True)\n",
       "   (output): Linear(in_features=3, out_features=1, bias=True)\n",
       " ),\n",
       " ClassicalNet(\n",
       "   (hid1): Linear(in_features=3, out_features=3, bias=True)\n",
       "   (output): Linear(in_features=3, out_features=1, bias=True)\n",
       " ))"
      ]
     },
     "execution_count": 3,
     "metadata": {},
     "output_type": "execute_result"
    }
   ],
   "source": [
    "create_cnn_and_fit_and_store_result(save_path, dataset, n, epochs, batch_size=1, lrn=0.001)"
   ]
  },
  {
   "cell_type": "code",
   "execution_count": null,
   "id": "08f6c8f2",
   "metadata": {},
   "outputs": [
    {
     "name": "stdout",
     "output_type": "stream",
     "text": [
      "--------create model-----------\n",
      "param count is : 6\n",
      "Running epoch 1 of 30\n"
     ]
    },
    {
     "name": "stderr",
     "output_type": "stream",
     "text": [
      "/home/tokamak/programs/python/atcc/Testing_Quantum_Neural_Net/classes/QnnTorchConnector.py:317: UserWarning: Creating a tensor from a list of numpy.ndarrays is extremely slow. Please consider converting the list to a single numpy.ndarray with numpy.array() before converting to a tensor. (Triggered internally at  ../torch/csrc/utils/tensor_new.cpp:210.)\n",
      "  predictions = T.tensor([np.array(result)])\n"
     ]
    }
   ],
   "source": [
    "create_qnn_and_fit_and_store_result(save_path, circuit_type=\"ZzFeatureMapRealAmplitudeCircuit\",\n",
    "                                         dataset=dataset, n=n, epochs=epochs, batch_size=1)\n",
    "\n",
    "create_qnn_and_fit_and_store_result(save_path, circuit_type=\"CombinedQnn\",\n",
    "                                         dataset=dataset, n=n, epochs=epochs, batch_size=1)"
   ]
  },
  {
   "cell_type": "code",
   "execution_count": null,
   "id": "d0b233cc",
   "metadata": {},
   "outputs": [],
   "source": [
    "create_hybridqnn_and_fit_and_store_result(save_path, \"ZzFeatureMapRealAmplitudeCircuit\",\n",
    "                                          dataset, n, epochs, batch_size=1)\n",
    "\n",
    "create_hybridqnn_and_fit_and_store_result(save_path, \"CombinedQnn\",\n",
    "                                          dataset, n, epochs, batch_size=1)\n",
    "       "
   ]
  },
  {
   "cell_type": "code",
   "execution_count": null,
   "id": "2fee56ef",
   "metadata": {},
   "outputs": [],
   "source": [
    "# import qiskit\n",
    "# qiskit.__qiskit_version__"
   ]
  },
  {
   "cell_type": "code",
   "execution_count": null,
   "id": "fc4c5de8",
   "metadata": {},
   "outputs": [],
   "source": []
  }
 ],
 "metadata": {
  "kernelspec": {
   "display_name": "Python 3 (ipykernel)",
   "language": "python",
   "name": "python3"
  },
  "language_info": {
   "codemirror_mode": {
    "name": "ipython",
    "version": 3
   },
   "file_extension": ".py",
   "mimetype": "text/x-python",
   "name": "python",
   "nbconvert_exporter": "python",
   "pygments_lexer": "ipython3",
   "version": "3.8.10"
  }
 },
 "nbformat": 4,
 "nbformat_minor": 5
}
