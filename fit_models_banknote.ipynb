{
 "cells": [
  {
   "cell_type": "code",
   "execution_count": 1,
   "id": "23e99752",
   "metadata": {},
   "outputs": [],
   "source": [
    "from classes.QCircuits import *\n",
    "from classes.QnnTorchConnector import *\n",
    "from classes.CsvDataset import *\n",
    "from classes.Utils import *\n",
    "\n",
    "from qiskit import QuantumCircuit\n",
    "from qiskit.circuit.library import RealAmplitudes, ZFeatureMap, ZZFeatureMap\n",
    "from qiskit.circuit import ParameterVector\n",
    "from qiskit.quantum_info import Statevector\n",
    "from qiskit.algorithms.optimizers import SPSA, SLSQP, L_BFGS_B, COBYLA\n",
    "\n",
    "import numpy as np\n",
    "from math import log\n",
    "from pandas import read_csv, DataFrame, concat\n",
    "\n",
    "import matplotlib.pyplot as plt\n",
    "\n",
    "import torch as T\n",
    "\n",
    "from sklearn import datasets, preprocessing\n",
    "from sklearn.model_selection import train_test_split"
   ]
  },
  {
   "cell_type": "code",
   "execution_count": 2,
   "id": "6a1a7e3a",
   "metadata": {},
   "outputs": [
    {
     "name": "stdout",
     "output_type": "stream",
     "text": [
      "                 0            1            2            3            4\n",
      "count  1372.000000  1372.000000  1372.000000  1372.000000  1372.000000\n",
      "mean      0.433735     1.922353     1.397627    -1.191657     0.444606\n",
      "std       2.842763     5.869047     4.310030     2.101013     0.497103\n",
      "min      -7.042100   -13.773100    -5.286100    -8.548200     0.000000\n",
      "25%      -1.773000    -1.708200    -1.574975    -2.413450     0.000000\n",
      "50%       0.496180     2.319650     0.616630    -0.586650     0.000000\n",
      "75%       2.821475     6.814625     3.179250     0.394810     1.000000\n",
      "max       6.824800    12.951600    17.927400     2.449500     1.000000\n"
     ]
    }
   ],
   "source": [
    "seed = 42\n",
    "np.random.seed(seed)\n",
    "T.manual_seed(seed)\n",
    "\n",
    "# BANKNOTE DATASET. \n",
    "# define the location of the dataset\n",
    "url = 'https://raw.githubusercontent.com/jbrownlee/Datasets/master/banknote_authentication.csv'\n",
    "n=2\n",
    "\n",
    "dataset_name = 'banknote'\n",
    "save_path = 'loss_data/'+dataset_name+'_'\n",
    "\n",
    "df = read_csv(url, header=None)\n",
    "print(df.describe())   \n",
    "epochs = 15\n",
    "\n",
    "\n",
    "dataset = CsvDataset(df=df, features=(0,2), target=4)\n",
    "\n",
    "train_dl, test_dl = create_train_test_dataloader(dataset, batch_size=10)"
   ]
  },
  {
   "cell_type": "code",
   "execution_count": 3,
   "id": "14a0ef89",
   "metadata": {},
   "outputs": [
    {
     "data": {
      "image/png": "[encoded data removed]",
      "text/plain": [
       "<Figure size 576x432 with 1 Axes>"
      ]
     },
     "metadata": {},
     "output_type": "display_data"
    }
   ],
   "source": [
    "# only plots two features\n",
    "# plot_two_features_classification(df.iloc[:,0],df.iloc[:,2], df.iloc[:,4], 'figures/'+dataset_name+'.png')\n",
    "plot_two_features_classification(dataset.X[:,0],dataset.X[:,1], dataset.y)"
   ]
  },
  {
   "cell_type": "code",
   "execution_count": 5,
   "id": "9189671c",
   "metadata": {},
   "outputs": [
    {
     "name": "stdout",
     "output_type": "stream",
     "text": [
      "--------create model-----------\n",
      "param count is : 15\n",
      "end of run - train loss array is: [0.5767393488200125, 0.3415067348387745, 0.3174854641133586, 0.3146480701767084, 0.3115209458843097, 0.30402491903528595, 0.2991710391308107, 0.2955619549456789, 0.29221072552454164, 0.28894125037157714, 0.28590196485399566, 0.2833791094494649, 0.2815250104224075, 0.2802230852246719, 0.2792648689663107]\n",
      "end of run - val loss array is: [0.351633071377559, 0.34149365318267627, 0.33454365179314643, 0.3115183298292304, 0.2971683207236208, 0.2954638892440043, 0.2940797009803969, 0.29155730238347216, 0.2882855123434292, 0.2850560822513005, 0.28266298110392934, 0.28142775933735725, 0.28108900962442723, 0.28122189746591264, 0.2815232339410445]\n",
      "end of run - val accuracy is: [0.8509090909090911, 0.8727272727272726, 0.8654545454545453, 0.8727272727272726, 0.88, 0.88, 0.88, 0.88, 0.88, 0.88, 0.88, 0.8763636363636363, 0.8763636363636363, 0.8763636363636363, 0.8799999999999999]\n",
      "--------end fitting-----------\n",
      "\n",
      "--------create model-----------\n",
      "param count is : 9\n",
      "end of run - train loss array is: [0.6031084601672603, 0.371287783484377, 0.3282866208410459, 0.3215370270655329, 0.3193100001278091, 0.3178995241016953, 0.31685146909735845, 0.31599903341910357, 0.3152554675370051, 0.31457389863454377, 0.3139281704479053, 0.3133029280714101, 0.31268861135701037, 0.3120789332039669, 0.31146959159839194]\n",
      "end of run - val loss array is: [0.4343535063190521, 0.3483253990131386, 0.3356977211008269, 0.33433902843240554, 0.3339848176749479, 0.3340276919798336, 0.33429526597977255, 0.33467843582393597, 0.33510569540059604, 0.3355306269139247, 0.3359233841078383, 0.33626528307476494, 0.33654524270230063, 0.3367573337059162, 0.3368990769477706]\n",
      "end of run - val accuracy is: [0.8363636363636364, 0.869090909090909, 0.8727272727272726, 0.8727272727272726, 0.8690909090909089, 0.8690909090909089, 0.8690909090909089, 0.8727272727272726, 0.8690909090909089, 0.8690909090909089, 0.8690909090909089, 0.8690909090909089, 0.8763636363636362, 0.8763636363636362, 0.8799999999999999]\n",
      "--------end fitting-----------\n",
      "\n"
     ]
    }
   ],
   "source": [
    "cnn1, cnn2 = create_cnn_and_fit_and_store_result(save_path, dataset, n, epochs)"
   ]
  },
  {
   "cell_type": "code",
   "execution_count": 4,
   "id": "08f6c8f2",
   "metadata": {},
   "outputs": [
    {
     "ename": "NameError",
     "evalue": "name 'dataset' is not defined",
     "output_type": "error",
     "traceback": [
      "\u001b[1;31m---------------------------------------------------------------------------\u001b[0m",
      "\u001b[1;31mNameError\u001b[0m                                 Traceback (most recent call last)",
      "\u001b[1;32m~\\AppData\\Local\\Temp/ipykernel_15788/2798980758.py\u001b[0m in \u001b[0;36m<module>\u001b[1;34m\u001b[0m\n\u001b[1;32m----> 1\u001b[1;33m \u001b[0mcreate_qnn_and_fit_and_store_result\u001b[0m\u001b[1;33m(\u001b[0m\u001b[0msave_path\u001b[0m\u001b[1;33m,\u001b[0m \u001b[0mcircuit_type\u001b[0m\u001b[1;33m=\u001b[0m\u001b[1;34m\"ZzFeatureMapRealAmplitudeCircuit\"\u001b[0m\u001b[1;33m,\u001b[0m \u001b[0mdataset\u001b[0m\u001b[1;33m=\u001b[0m\u001b[0mdataset\u001b[0m\u001b[1;33m,\u001b[0m \u001b[0mn\u001b[0m\u001b[1;33m=\u001b[0m\u001b[0mn\u001b[0m\u001b[1;33m,\u001b[0m \u001b[0mepochs\u001b[0m\u001b[1;33m=\u001b[0m\u001b[0mepochs\u001b[0m\u001b[1;33m)\u001b[0m\u001b[1;33m\u001b[0m\u001b[1;33m\u001b[0m\u001b[0m\n\u001b[0m\u001b[0;32m      2\u001b[0m \u001b[1;33m\u001b[0m\u001b[0m\n\u001b[0;32m      3\u001b[0m \u001b[0mcreate_qnn_and_fit_and_store_result\u001b[0m\u001b[1;33m(\u001b[0m\u001b[0msave_path\u001b[0m\u001b[1;33m,\u001b[0m \u001b[0mcircuit_type\u001b[0m\u001b[1;33m=\u001b[0m\u001b[1;34m\"Circuit13\"\u001b[0m\u001b[1;33m,\u001b[0m \u001b[0mdataset\u001b[0m\u001b[1;33m=\u001b[0m\u001b[0mdataset\u001b[0m\u001b[1;33m,\u001b[0m \u001b[0mn\u001b[0m\u001b[1;33m=\u001b[0m\u001b[0mn\u001b[0m\u001b[1;33m,\u001b[0m \u001b[0mepochs\u001b[0m\u001b[1;33m=\u001b[0m\u001b[0mepochs\u001b[0m\u001b[1;33m)\u001b[0m\u001b[1;33m\u001b[0m\u001b[1;33m\u001b[0m\u001b[0m\n",
      "\u001b[1;31mNameError\u001b[0m: name 'dataset' is not defined"
     ]
    }
   ],
   "source": [
    "create_qnn_and_fit_and_store_result(save_path, circuit_type=\"ZzFeatureMapRealAmplitudeCircuit\", dataset=dataset, n=n, epochs=epochs)\n",
    "\n",
    "create_qnn_and_fit_and_store_result(save_path, circuit_type=\"CombinedQnn\", dataset=dataset, n=n, epochs=epochs)\n"
   ]
  },
  {
   "cell_type": "code",
   "execution_count": 8,
   "id": "54ed91ff",
   "metadata": {},
   "outputs": [
    {
     "name": "stdout",
     "output_type": "stream",
     "text": [
      "--------create model-----------\n",
      "param count is : 7\n",
      "end of run - train loss array is: [0.6850767518061315, 0.6726863148490868, 0.65569718488322, 0.6096337115035978, 0.5777947510472653, 0.5584100892697857, 0.5457498076303505, 0.5367982261822665, 0.5308232919423749, 0.5262620111214912, 0.5225977425717557, 0.5197198734333821, 0.515584152478385, 0.5106588734188791, 0.5061733874354902]\n",
      "end of run - val loss array is: [0.6651999741103709, 0.6558021195460357, 0.6217411899154396, 0.5822636841125165, 0.5566085901986602, 0.540122607934181, 0.5293717299804631, 0.522119803063522, 0.5173360294246335, 0.514987697832846, 0.5158334184625323, 0.5151807478036452, 0.5132199429615709, 0.508908453721331, 0.49937777576262865]\n",
      "end of run - val accuracy is: [0.5854545454545454, 0.6036363636363636, 0.7272727272727273, 0.7745454545454545, 0.7599999999999998, 0.7599999999999999, 0.7672727272727273, 0.7745454545454548, 0.7636363636363638, 0.7636363636363638, 0.7600000000000002, 0.7672727272727273, 0.7600000000000001, 0.7672727272727272, 0.7818181818181819]\n",
      "--------end fitting-----------\n",
      "\n",
      "--------create model-----------\n",
      "param count is : 10\n",
      "end of run - train loss array is: [0.6902093277717087, 0.6855553229650074, 0.6522569341561775, 0.5050270335176593, 0.3960859908919028, 0.3478711938371947, 0.32568287832417736, 0.31424870677353467, 0.3075637805671127, 0.3031883908014632, 0.3000384406999646, 0.29758496723814953, 0.29554885540941106, 0.29377654894737015, 0.29218526903644765]\n",
      "end of run - val loss array is: [0.6721682542023252, 0.6690292932436203, 0.5729639375577282, 0.4390904614018837, 0.37642996097930054, 0.3476975351570304, 0.3350792785044139, 0.3290442908036888, 0.32583788047889567, 0.3238715777374391, 0.3224221076952123, 0.3211557997333079, 0.3199386553336789, 0.3187440448797093, 0.3175955791631139]\n",
      "end of run - val accuracy is: [0.5854545454545454, 0.5854545454545454, 0.7090909090909092, 0.8618181818181818, 0.869090909090909, 0.8727272727272728, 0.8763636363636365, 0.8727272727272728, 0.8763636363636365, 0.8763636363636365, 0.8763636363636365, 0.8763636363636365, 0.8763636363636365, 0.8763636363636365, 0.8763636363636365]\n",
      "--------end fitting-----------\n",
      "\n"
     ]
    },
    {
     "data": {
      "text/plain": [
       "HybridClassificationNet(\n",
       "  (qnn): QnnTorchConnector()\n",
       "  (cnn): Linear(in_features=2, out_features=1, bias=True)\n",
       ")"
      ]
     },
     "execution_count": 8,
     "metadata": {},
     "output_type": "execute_result"
    }
   ],
   "source": [
    "create_hybridqnn_and_fit_and_store_result(save_path, \"ZzFeatureMapRealAmplitudeCircuit\", dataset, n, epochs)\n",
    "\n",
    "create_hybridqnn_and_fit_and_store_result(save_path, \"CombinedQnn\", dataset, n, epochs)\n",
    "    "
   ]
  },
  {
   "cell_type": "code",
   "execution_count": 13,
   "id": "325c731d",
   "metadata": {},
   "outputs": [],
   "source": [
    "# import qiskit\n",
    "# qiskit.__qiskit_version__"
   ]
  },
  {
   "cell_type": "code",
   "execution_count": null,
   "id": "48397f4a",
   "metadata": {},
   "outputs": [],
   "source": []
  }
 ],
 "metadata": {
  "kernelspec": {
   "display_name": "Python 3 (Qiskitenv)",
   "language": "python",
   "name": "qiskitenv"
  },
  "language_info": {
   "codemirror_mode": {
    "name": "ipython",
    "version": 3
   },
   "file_extension": ".py",
   "mimetype": "text/x-python",
   "name": "python",
   "nbconvert_exporter": "python",
   "pygments_lexer": "ipython3",
   "version": "3.7.11"
  }
 },
 "nbformat": 4,
 "nbformat_minor": 5
}
