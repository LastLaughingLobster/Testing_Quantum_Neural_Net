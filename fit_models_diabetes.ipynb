{
 "cells": [
  {
   "cell_type": "code",
   "execution_count": 1,
   "id": "23e99752",
   "metadata": {},
   "outputs": [
    {
     "name": "stderr",
     "output_type": "stream",
     "text": [
      "configrc.store_credentials:WARNING:2022-06-05 01:10:51,279: Credentials already present. Set overwrite=True to overwrite.\n"
     ]
    },
    {
     "name": "stdout",
     "output_type": "stream",
     "text": [
      "GPU Acceleration Disabled:  'Invalid option devices'\n",
      "QPU Simulator Enabled\n",
      "Simulating ibmq_manila\n"
     ]
    }
   ],
   "source": [
    "from classes.QCircuits import *\n",
    "from classes.QnnTorchConnector import *\n",
    "from classes.CsvDataset import *\n",
    "from classes.Utils import *\n",
    "\n",
    "from qiskit import QuantumCircuit\n",
    "from qiskit.circuit.library import RealAmplitudes, ZFeatureMap, ZZFeatureMap\n",
    "from qiskit.circuit import ParameterVector\n",
    "from qiskit.quantum_info import Statevector\n",
    "from qiskit.algorithms.optimizers import SPSA, SLSQP, L_BFGS_B, COBYLA\n",
    "\n",
    "import numpy as np\n",
    "from math import log\n",
    "from pandas import read_csv, DataFrame, concat\n",
    "\n",
    "import matplotlib.pyplot as plt\n",
    "\n",
    "import torch as T\n",
    "\n",
    "from sklearn import datasets, preprocessing\n",
    "from sklearn.model_selection import train_test_split"
   ]
  },
  {
   "cell_type": "code",
   "execution_count": 2,
   "id": "6a1a7e3a",
   "metadata": {},
   "outputs": [
    {
     "name": "stdout",
     "output_type": "stream",
     "text": [
      "                0           1           2           3           4           5  \\\n",
      "count  768.000000  768.000000  768.000000  768.000000  768.000000  768.000000   \n",
      "mean     3.845052  120.894531   69.105469   20.536458   79.799479   31.992578   \n",
      "std      3.369578   31.972618   19.355807   15.952218  115.244002    7.884160   \n",
      "min      0.000000    0.000000    0.000000    0.000000    0.000000    0.000000   \n",
      "25%      1.000000   99.000000   62.000000    0.000000    0.000000   27.300000   \n",
      "50%      3.000000  117.000000   72.000000   23.000000   30.500000   32.000000   \n",
      "75%      6.000000  140.250000   80.000000   32.000000  127.250000   36.600000   \n",
      "max     17.000000  199.000000  122.000000   99.000000  846.000000   67.100000   \n",
      "\n",
      "                6           7           8  \n",
      "count  768.000000  768.000000  768.000000  \n",
      "mean     0.471876   33.240885    0.348958  \n",
      "std      0.331329   11.760232    0.476951  \n",
      "min      0.078000   21.000000    0.000000  \n",
      "25%      0.243750   24.000000    0.000000  \n",
      "50%      0.372500   29.000000    0.000000  \n",
      "75%      0.626250   41.000000    1.000000  \n",
      "max      2.420000   81.000000    1.000000  \n"
     ]
    }
   ],
   "source": [
    "seed = 42\n",
    "np.random.seed(seed)\n",
    "T.manual_seed(seed)\n",
    "\n",
    "url = 'https://raw.githubusercontent.com/jbrownlee/Datasets/master/pima-indians-diabetes.csv'\n",
    "n=3\n",
    "epochs = 30\n",
    "\n",
    "dataset_name = 'diabetes'\n",
    "save_path = 'loss_data/'+dataset_name+'_'\n",
    "\n",
    "df = read_csv(url, header=None)\n",
    "print(df.describe())\n",
    " \n",
    "dataset = CsvDataset(df=df, features=(1,5,7), target=8)\n",
    "\n",
    "train_dl, test_dl = create_train_test_dataloader(dataset, batch_size=10)"
   ]
  },
  {
   "cell_type": "code",
   "execution_count": null,
   "id": "fc4c5de8",
   "metadata": {},
   "outputs": [],
   "source": [
    "cnn1, cnn2 = create_cnn_and_fit_and_store_result(save_path, dataset, n, epochs)"
   ]
  },
  {
   "cell_type": "code",
   "execution_count": null,
   "id": "54ed91ff",
   "metadata": {},
   "outputs": [],
   "source": [
    "setup(run_qpu = False, add_noise = False)\n",
    "\n",
    "create_hybridqnn_and_fit_and_store_result(save_path, \"CombinedQnn\", dataset, n, epochs, method = 'Aer')\n",
    "    "
   ]
  },
  {
   "cell_type": "code",
   "execution_count": null,
   "id": "325c731d",
   "metadata": {},
   "outputs": [],
   "source": [
    "setup(run_qpu = False, add_noise = True)\n",
    "\n",
    "create_hybridqnn_and_fit_and_store_result(save_path, \"CombinedQnn\", dataset, n, epochs, method = 'Noise')"
   ]
  },
  {
   "cell_type": "code",
   "execution_count": null,
   "id": "48397f4a",
   "metadata": {},
   "outputs": [],
   "source": [
    "setup(run_qpu = True, add_noise = False)\n",
    "\n",
    "create_hybridqnn_and_fit_and_store_result(save_path, \"CombinedQnn\", dataset, n, epochs, method = 'QPU')"
   ]
  }
 ],
 "metadata": {
  "kernelspec": {
   "display_name": "Python 3 (ipykernel)",
   "language": "python",
   "name": "python3"
  },
  "language_info": {
   "codemirror_mode": {
    "name": "ipython",
    "version": 3
   },
   "file_extension": ".py",
   "mimetype": "text/x-python",
   "name": "python",
   "nbconvert_exporter": "python",
   "pygments_lexer": "ipython3",
   "version": "3.8.10"
  }
 },
 "nbformat": 4,
 "nbformat_minor": 5
}
